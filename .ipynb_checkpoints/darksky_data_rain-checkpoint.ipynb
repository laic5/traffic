{
 "cells": [
  {
   "cell_type": "markdown",
   "metadata": {},
   "source": [
    "Dark Sky API: 4ff1d8e73db78778122dfacfabf261f2"
   ]
  },
  {
   "cell_type": "markdown",
   "metadata": {},
   "source": []
  },
  {
   "cell_type": "code",
   "execution_count": 1,
   "metadata": {},
   "outputs": [],
   "source": [
    "from darksky import forecast\n",
    "from datetime import datetime as dt\n",
    "from datetime import date, timedelta\n",
    "import pandas as pd"
   ]
  },
  {
   "cell_type": "markdown",
   "metadata": {},
   "source": [
    "Using Time Machine Call, we can get the observed weather conditions for a date in the past or future. "
   ]
  },
  {
   "cell_type": "code",
   "execution_count": 2,
   "metadata": {},
   "outputs": [],
   "source": [
    "key = \"4ff1d8e73db78778122dfacfabf261f2\"\n",
    "DAVIS = key, 38.5449, -121.7405"
   ]
  },
  {
   "cell_type": "code",
   "execution_count": 3,
   "metadata": {},
   "outputs": [],
   "source": [
    "t = dt(2018, 4, 2, 12).isoformat()\n",
    "davis = forecast(*DAVIS, t)\n",
    "mydata = pd.DataFrame(davis['hourly']['data'])\n",
    "mydata['LAT'] = 38.5449\n",
    "mydata['LON'] = -121.7405\n",
    "mydata['YEAR'] = 2018\n",
    "mydata['MONTH'] = 4\n",
    "mydata['DAY'] = 2\n",
    "mydata['HOUR'] = [i for i in range(24)]"
   ]
  },
  {
   "cell_type": "code",
   "execution_count": 4,
   "metadata": {},
   "outputs": [],
   "source": [
    "for i in range(3, 28):  \n",
    "    t = dt(2018, 4, i, 12).isoformat()\n",
    "    davis = forecast(*DAVIS, t)\n",
    "    tempdata = pd.DataFrame(davis['hourly']['data'])\n",
    "    tempdata['LAT'] = 38.5449\n",
    "    tempdata['LON'] = -121.7405\n",
    "    tempdata['YEAR'] = 2018\n",
    "    tempdata['MONTH'] = 4\n",
    "    tempdata['DAY'] = i\n",
    "    tempdata['HOUR'] = [i for i in range(24)]\n",
    "    mydata = mydata.append(tempdata)"
   ]
  },
  {
   "cell_type": "markdown",
   "metadata": {},
   "source": [
    "Save it as csv"
   ]
  },
  {
   "cell_type": "code",
   "execution_count": 7,
   "metadata": {},
   "outputs": [],
   "source": [
    "mydata.to_csv(\"hourly.csv\", sep=',')"
   ]
  },
  {
   "cell_type": "code",
   "execution_count": null,
   "metadata": {},
   "outputs": [],
   "source": []
  }
 ],
 "metadata": {
  "kernelspec": {
   "display_name": "Python 3",
   "language": "python",
   "name": "python3"
  },
  "language_info": {
   "codemirror_mode": {
    "name": "ipython",
    "version": 3
   },
   "file_extension": ".py",
   "mimetype": "text/x-python",
   "name": "python",
   "nbconvert_exporter": "python",
   "pygments_lexer": "ipython3",
   "version": "3.6.1"
  }
 },
 "nbformat": 4,
 "nbformat_minor": 2
}
