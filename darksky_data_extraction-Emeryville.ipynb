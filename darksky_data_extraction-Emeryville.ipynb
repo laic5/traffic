{
 "cells": [
  {
   "cell_type": "markdown",
   "metadata": {},
   "source": [
    "Dark Sky API: 4ff1d8e73db78778122dfacfabf261f2"
   ]
  },
  {
   "cell_type": "markdown",
   "metadata": {},
   "source": []
  },
  {
   "cell_type": "code",
   "execution_count": 1,
   "metadata": {
    "collapsed": true
   },
   "outputs": [],
   "source": [
    "from darksky import forecast\n",
    "from datetime import datetime as dt\n",
    "from datetime import date, timedelta\n",
    "import pandas as pd"
   ]
  },
  {
   "cell_type": "markdown",
   "metadata": {},
   "source": [
    "Using Time Machine Call, we can get the observed weather conditions for a date in the past or future. "
   ]
  },
  {
   "cell_type": "code",
   "execution_count": 2,
   "metadata": {
    "collapsed": true
   },
   "outputs": [],
   "source": [
    "longitudes = [-122.2970, -122.2961, -122.2985]\n",
    "latitudes = [37.83967, 37.83657, 37.84656]\n",
    "key = \"4ff1d8e73db78778122dfacfabf261f2\""
   ]
  },
  {
   "cell_type": "code",
   "execution_count": 23,
   "metadata": {
    "collapsed": true
   },
   "outputs": [],
   "source": [
    "def get_forecast(lat, lon, day):\n",
    "    # assumes month is April and year is 2018\n",
    "    key = \"4ff1d8e73db78778122dfacfabf261f2\"\n",
    "    t = dt(2018, 4, day, 12).isoformat()\n",
    "    fcast = forecast(key, lat, lon, t, exclude=['currently','daily','flags'])\n",
    "    return fcast['hourly']['data']"
   ]
  },
  {
   "cell_type": "code",
   "execution_count": 16,
   "metadata": {
    "collapsed": true
   },
   "outputs": [],
   "source": [
    "mydata = pd.DataFrame(get_forecast(latitudes[0], longitudes[0]), 4)\n",
    "mydata['LAT'] = latitudes[0]\n",
    "mydata['LON'] = longitudes[0]\n",
    "mydata['YEAR'] = 2018\n",
    "mydata['MONTH'] = 4\n",
    "mydata['DAY'] = 4\n",
    "mydata['HOUR'] = [i for i in range(24)]"
   ]
  },
  {
   "cell_type": "code",
   "execution_count": 20,
   "metadata": {},
   "outputs": [],
   "source": [
    "for i in range(5, 8):\n",
    "    for j in range(1, 3):\n",
    "        tempdata = pd.DataFrame(get_forecast(latitudes[0], longitudes[0]), i)\n",
    "        tempdata['LAT'] = latitudes[j]\n",
    "        tempdata['LON'] = longitudes[j]\n",
    "        tempdata['YEAR'] = 2018\n",
    "        tempdata['MONTH'] = 4\n",
    "        tempdata['DAY'] = i\n",
    "        tempdata['HOUR'] = [i for i in range(24)]\n",
    "        mydata = mydata.append(tempdata)\n",
    "        \n",
    "mydata = mydata.reset_index(drop=True)"
   ]
  },
  {
   "cell_type": "markdown",
   "metadata": {},
   "source": [
    "Save it as csv"
   ]
  },
  {
   "cell_type": "code",
   "execution_count": 26,
   "metadata": {
    "collapsed": true
   },
   "outputs": [],
   "source": [
    "mydata.to_csv(\"emeryville_4_4_to_4_7.csv\")"
   ]
  }
 ],
 "metadata": {
  "kernelspec": {
   "display_name": "Python 3",
   "language": "python",
   "name": "python3"
  },
  "language_info": {
   "codemirror_mode": {
    "name": "ipython",
    "version": 3
   },
   "file_extension": ".py",
   "mimetype": "text/x-python",
   "name": "python",
   "nbconvert_exporter": "python",
   "pygments_lexer": "ipython3",
   "version": "3.6.0"
  }
 },
 "nbformat": 4,
 "nbformat_minor": 2
}
